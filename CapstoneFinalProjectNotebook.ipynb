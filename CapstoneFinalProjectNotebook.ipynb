{
 "cells": [
  {
   "cell_type": "markdown",
   "id": "debb1813",
   "metadata": {},
   "source": [
    "# Capstone Project of Summer Analytics 2025\n",
    " - hosted by Consulting & Analytics Club × Pathway"
   ]
  },
  {
   "cell_type": "markdown",
   "id": "2fbb9d52",
   "metadata": {},
   "source": [
    "# Inroduction\n"
   ]
  },
  {
   "cell_type": "markdown",
   "id": "7296b7ed",
   "metadata": {},
   "source": [
    "####  Urban parking spaces are a limited and highly demanded resource. Prices that remain static\n",
    " throughout the day can lead to inefficiencies — either overcrowding or underutilization.\n",
    " To improve utilization, dynamic pricing based on demand, competition, and real-time\n",
    " conditions is crucial."
   ]
  },
  {
   "cell_type": "code",
   "execution_count": null,
   "id": "55fbbf81",
   "metadata": {
    "vscode": {
     "languageId": "plaintext"
    }
   },
   "outputs": [],
   "source": [
    "!pip install pathway bokeh --quiet # This cell may take a few seconds to execute."
   ]
  },
  {
   "cell_type": "code",
   "execution_count": null,
   "id": "aa48a7cd",
   "metadata": {
    "vscode": {
     "languageId": "plaintext"
    }
   },
   "outputs": [],
   "source": [
    "import numpy as np\n",
    "import pandas as pd\n",
    "import matplotlib.pyplot as plt\n",
    "import datetime\n",
    "from datetime import datetime\n",
    "import pathway as pw\n",
    "import bokeh.plotting\n",
    "import panel as pn"
   ]
  },
  {
   "cell_type": "markdown",
   "id": "4168678b",
   "metadata": {},
   "source": [
    "## Importing and Preprocessing the Data"
   ]
  },
  {
   "cell_type": "code",
   "execution_count": null,
   "id": "6df8d555",
   "metadata": {
    "vscode": {
     "languageId": "plaintext"
    }
   },
   "outputs": [],
   "source": [
    "from google.colab import files\n",
    "uploaded = files.upload()\n"
   ]
  },
  {
   "cell_type": "code",
   "execution_count": null,
   "id": "3b017ba6",
   "metadata": {
    "vscode": {
     "languageId": "plaintext"
    }
   },
   "outputs": [],
   "source": [
    "df = pd.read_csv('dataset.csv')\n",
    "df"
   ]
  },
  {
   "cell_type": "code",
   "execution_count": null,
   "id": "82cd7a22",
   "metadata": {
    "vscode": {
     "languageId": "plaintext"
    }
   },
   "outputs": [],
   "source": [
    "import pandas as pd\n",
    "\n",
    "# Example: df has a column 'SystemCodeNumber' with 14 unique values\n",
    "grouped_datasets = {group: data for group, data in df.groupby('SystemCodeNumber')}"
   ]
  },
  {
   "cell_type": "code",
   "execution_count": null,
   "id": "bc96f49b",
   "metadata": {
    "vscode": {
     "languageId": "plaintext"
    }
   },
   "outputs": [],
   "source": [
    "df['SystemCodeNumber'].unique()"
   ]
  },
  {
   "cell_type": "markdown",
   "id": "8902a26b",
   "metadata": {},
   "source": [
    "# Make the dataset for a slot from above 14 slots for which you want to predict the price"
   ]
  },
  {
   "cell_type": "code",
   "execution_count": null,
   "id": "d1fce4fb",
   "metadata": {
    "vscode": {
     "languageId": "plaintext"
    }
   },
   "outputs": [],
   "source": [
    "df= grouped_datasets['BHMBCCMKT01'] # Only data where SystemCodeNumber == 'BHMBCCMKT01'\n",
    "df"
   ]
  },
  {
   "cell_type": "code",
   "execution_count": null,
   "id": "33a33639",
   "metadata": {
    "vscode": {
     "languageId": "plaintext"
    }
   },
   "outputs": [],
   "source": [
    "df['TrafficConditionNearby'].unique()"
   ]
  },
  {
   "cell_type": "code",
   "execution_count": null,
   "id": "26423268",
   "metadata": {
    "vscode": {
     "languageId": "plaintext"
    }
   },
   "outputs": [],
   "source": [
    "# Combine the 'LastUpdatedDate' and 'LastUpdatedTime' columns into a single datetime column\n",
    "df['Timestamp'] = pd.to_datetime(df['LastUpdatedDate'] + ' ' + df['LastUpdatedTime'],\n",
    "                                  format='%d-%m-%Y %H:%M:%S')\n",
    "\n",
    "# Sort the DataFrame by the new 'Timestamp' column and reset the index\n",
    "df = df.sort_values('Timestamp').reset_index(drop=True)\n",
    "df[\"Timestamp\"] = pd.to_datetime(df[\"Timestamp\"])"
   ]
  },
  {
   "cell_type": "code",
   "execution_count": null,
   "id": "088d5402",
   "metadata": {
    "vscode": {
     "languageId": "plaintext"
    }
   },
   "outputs": [],
   "source": [
    "df.columns = df.columns.str.strip()  # Remove tab characters\n",
    "\n",
    "df_clean = df[[\"Timestamp\", \"SystemCodeNumber\", \"Occupancy\", \"Capacity\",\n",
    "               \"QueueLength\", \"TrafficConditionNearby\", \"IsSpecialDay\",\n",
    "               \"VehicleType\", \"Latitude\", \"Longitude\"]]\n",
    "\n",
    "df_clean.to_csv(\"parking_stream.csv\", index=False)"
   ]
  },
  {
   "cell_type": "code",
   "execution_count": null,
   "id": "2b6f2a2a",
   "metadata": {
    "vscode": {
     "languageId": "plaintext"
    }
   },
   "outputs": [],
   "source": [
    "class ParkingSchema(pw.Schema):\n",
    "    Timestamp: str\n",
    "    SystemCodeNumber: str\n",
    "    Occupancy: int\n",
    "    Capacity: int\n",
    "    QueueLength: int\n",
    "    TrafficConditionNearby: str\n",
    "    IsSpecialDay: int\n",
    "    VehicleType: str\n",
    "    Latitude: float\n",
    "    Longitude: float"
   ]
  },
  {
   "cell_type": "code",
   "execution_count": null,
   "id": "96a406f7",
   "metadata": {
    "vscode": {
     "languageId": "plaintext"
    }
   },
   "outputs": [],
   "source": [
    "# Load the data as a simulated stream using Pathway's replay_csv function\n",
    "# This replays the CSV data at a controlled input rate to mimic real-time streaming\n",
    "# input_rate=1000 means approximately 1000 rows per second will be ingested into the stream.\n",
    "\n",
    "data = pw.demo.replay_csv(\"parking_stream.csv\", schema=ParkingSchema, input_rate=100)"
   ]
  },
  {
   "cell_type": "code",
   "execution_count": null,
   "id": "68b143d2",
   "metadata": {
    "vscode": {
     "languageId": "plaintext"
    }
   },
   "outputs": [],
   "source": [
    "# Define the datetime format to parse the 'Timestamp' column\n",
    "fmt = \"%Y-%m-%d %H:%M:%S\"\n",
    "\n",
    "# Add new columns to the data stream:\n",
    "# - 't' contains the parsed full datetime\n",
    "# - 'day' extracts the date part and resets the time to midnight (useful for day-level aggregations)\n",
    "data_with_time = data.with_columns(\n",
    "    t = data.Timestamp.dt.strptime(fmt),\n",
    "    day = data.Timestamp.dt.strptime(fmt).dt.strftime(\"%Y-%m-%dT00:00:00\")\n",
    ")"
   ]
  },
  {
   "cell_type": "markdown",
   "id": "2965c6e3",
   "metadata": {},
   "source": [
    "# Price_Model 1"
   ]
  },
  {
   "cell_type": "code",
   "execution_count": null,
   "id": "f650e41b",
   "metadata": {
    "vscode": {
     "languageId": "plaintext"
    }
   },
   "outputs": [],
   "source": [
    "# Define a daily tumbling window over the data stream using Pathway\n",
    "# This block performs temporal aggregation and computes a dynamic price for each day\n",
    "import datetime\n",
    "base_price=10\n",
    "alpha=5\n",
    "\n",
    "delta_window1 = (\n",
    "    data_with_time.windowby(\n",
    "        pw.this.t,  # Event time column to use for windowing (parsed datetime)\n",
    "        instance=pw.this.day,  # Logical partitioning key: one instance per calendar day\n",
    "        window=pw.temporal.tumbling(datetime.timedelta(days=1)),  # Fixed-size daily window\n",
    "        behavior=pw.temporal.exactly_once_behavior()  # Guarantees exactly-once processing semantics\n",
    "    )\n",
    "    .reduce(\n",
    "        t=pw.this._pw_window_end,                        # Assign the end timestamp of each window\n",
    "        occ_max=pw.reducers.max(pw.this.Occupancy),      # Highest occupancy observed in the window\n",
    "        occ_min=pw.reducers.min(pw.this.Occupancy),      # Lowest occupancy observed in the window\n",
    "        cap=pw.reducers.max(pw.this.Capacity),           # Maximum capacity observed (typically constant per spot)\n",
    "    )\n",
    "    .with_columns(\n",
    "        # Compute the price using a simple dynamic pricing formula:\n",
    "        # Pricing Formula:\n",
    "        #    price = base_price + demand_fluctuation\n",
    "        #     where:\n",
    "        #         base_price = 10 (fixed minimum price)\n",
    "        #         demand_fluctuation = (occ_max - occ_min) / cap\n",
    "        #\n",
    "        # Intuition:\n",
    "        # - The greater the difference between peak and low occupancy in a day,\n",
    "        #  the more volatile the demand is, indicating potential scarcity.\n",
    "        # - Dividing by capacity normalizes the fluctuation (to stay in [0,1] range).\n",
    "        # - This fluctuation is added to the base price of 10 to set the final price.\n",
    "        # - Example: If occ_max = 90, occ_min = 30, cap = 100\n",
    "        #            => price = 10 + (90 - 30)/100 = 10 + 0.6 = 10.6 '''\n",
    "\n",
    "        price=base_price+ alpha* (pw.this.occ_max - pw.this.occ_min) / pw.this.cap,\n",
    "    )\n",
    ")"
   ]
  },
  {
   "cell_type": "markdown",
   "id": "3c647ea4",
   "metadata": {},
   "source": [
    "# Price_Model 2"
   ]
  },
  {
   "cell_type": "code",
   "execution_count": null,
   "id": "66d010ec",
   "metadata": {
    "vscode": {
     "languageId": "plaintext"
    }
   },
   "outputs": [],
   "source": [
    "base_price = 10\n",
    "alpha, beta, gamma, delta = 0.5, 0.3, 0.2, 0.4\n",
    "lambda_ = 0.8\n",
    "delta_window2= (\n",
    "    data_with_time.windowby(\n",
    "        pw.this.t,  # Event time column to use for windowing (parsed datetime)\n",
    "        instance=pw.this.day,  # Logical partitioning key: one instance per calendar day\n",
    "        window=pw.temporal.tumbling(datetime.timedelta(days=1)),  # Fixed-size daily window\n",
    "        behavior=pw.temporal.exactly_once_behavior()  # Guarantees exactly-once processing semantics\n",
    "    )\n",
    "    .reduce(\n",
    "        t=pw.this._pw_window_end,                        # Assign the end timestamp of each window\n",
    "        occ_max=pw.reducers.max(pw.this.Occupancy),      # Highest occupancy observed in the window\n",
    "        occ_min=pw.reducers.min(pw.this.Occupancy),      # Lowest occupancy observed in the window\n",
    "        cap=pw.reducers.max(pw.this.Capacity),   # Maximum capacity observed (typically constant per spot)\n",
    "        IsSpecialDay=pw.reducers.max(pw.this.IsSpecialDay),\n",
    "        queue=pw.reducers.max(pw.this.QueueLength),\n",
    "        traffic = {\"low\": 0.6, \"average\": 1.0, \"high\": 1.4}.get(pw.this.TrafficConditionNearby, 1.0),\n",
    "        vehicle_weight = {\"car\": 1.0, \"bike\": 0.6, \"truck\": 1.4}.get(pw.this.VehicleType, 1.0),\n",
    "    )\n",
    "    .with_columns(\n",
    "        #occupancy_rate =(pw.this.occ_max - pw.this.occ_min) / pw.this.cap,\n",
    "        #special_day = pw.this.IsSpecialDay,\n",
    "        #traffic = {\"low\": 0.6, \"average\": 1.0, \"high\": 1.4}.get(pw.this.TrafficConditionNearby, 1.0),\n",
    "        #vehicle_weight = {\"car\": 1.0, \"bike\": 0.6, \"truck\": 1.4}.get(pw.this.VehicleType, 1.0),\n",
    "        price = base_price * (1 + lambda_ * (alpha *(pw.this.occ_max - pw.this.occ_min) / pw.this.cap +\n",
    "              beta * pw.this.queue -\n",
    "              gamma * 0 +\n",
    "              delta * pw.this.IsSpecialDay +\n",
    "              pw.this.vehicle_weight)/5)\n",
    "    )\n",
    ")"
   ]
  },
  {
   "cell_type": "markdown",
   "id": "f598dcd5",
   "metadata": {},
   "source": [
    "# Price_Model 3"
   ]
  },
  {
   "cell_type": "code",
   "execution_count": null,
   "id": "e5cbb54d",
   "metadata": {
    "vscode": {
     "languageId": "plaintext"
    }
   },
   "outputs": [],
   "source": [
    "'''from geopy.distance import geodesic\n",
    "\n",
    "# Dummy competitor prices and locations (replace with real stream if needed)\n",
    "competitor_prices = {\n",
    "    \"P1\": 12, \"P2\": 14, \"P3\": 9, \"P4\": 11\n",
    "}\n",
    "lot_locations = {\n",
    "    \"P1\": (28.6129, 77.2295),\n",
    "    \"P2\": (28.6130, 77.2294),\n",
    "    \"P3\": (28.6125, 77.2300),\n",
    "    \"P4\": (28.6131, 77.2298)\n",
    "}\n",
    "\n",
    "def model_3_pricing(lot_id, timestamp, lat, lon, capacity, occupancy,\n",
    "                    queue, vehicle_type, traffic, is_special_day):\n",
    "    demand_price = model_2_pricing(lot_id, timestamp, lat, lon, capacity, occupancy,\n",
    "                                   queue, vehicle_type, traffic, is_special_day)\n",
    "\n",
    "    current_location = (lat, lon)\n",
    "    nearby_prices = []\n",
    "    for other_lot, loc in lot_locations.items():\n",
    "        if other_lot == lot_id:\n",
    "            continue\n",
    "        dist = geodesic(current_location, loc).meters\n",
    "        if dist <= 300:\n",
    "            nearby_prices.append(competitor_prices.get(other_lot, 10))\n",
    "\n",
    "    if nearby_prices:\n",
    "        avg_nearby = np.mean(nearby_prices)\n",
    "        if occupancy >= capacity and demand_price > avg_nearby:\n",
    "            demand_price -= 2  # Encourage rerouting\n",
    "        elif demand_price < avg_nearby:\n",
    "            demand_price += 1  # Increase price slightly\n",
    "\n",
    "    return np.clip(demand_price, 5, 20)'''"
   ]
  },
  {
   "cell_type": "code",
   "execution_count": null,
   "id": "631d25c1",
   "metadata": {
    "vscode": {
     "languageId": "plaintext"
    }
   },
   "outputs": [],
   "source": [
    "'''delta_window3= (\n",
    "    data_with_time.windowby(\n",
    "        pw.this.t,  # Event time column to use for windowing (parsed datetime)\n",
    "        instance=pw.this.day,  # Logical partitioning key: one instance per calendar day\n",
    "        window=pw.temporal.tumbling(datetime.timedelta(days=1)),  # Fixed-size daily window\n",
    "        behavior=pw.temporal.exactly_once_behavior()  # Guarantees exactly-once processing semantics\n",
    "    )\n",
    "    .reduce(\n",
    "        t=pw.this._pw_window_end,                        # Assign the end timestamp of each window\n",
    "        occ_max=pw.reducers.max(pw.this.Occupancy),      # Highest occupancy observed in the window\n",
    "        occ_min=pw.reducers.min(pw.this.Occupancy),      # Lowest occupancy observed in the window\n",
    "        cap=pw.reducers.max(pw.this.Capacity),           # Maximum capacity observed (typically constant per spot)\n",
    "    )\n",
    "    .with_columns(\n",
    "\n",
    "        price=10 + (pw.this.occ_max - pw.this.occ_min) / pw.this.cap\n",
    "    )\n",
    ")'''"
   ]
  },
  {
   "cell_type": "markdown",
   "id": "d78f6e33",
   "metadata": {},
   "source": [
    "#  Visualizing Daily Price Fluctuations with a Bokeh Plot"
   ]
  },
  {
   "cell_type": "markdown",
   "id": "69061103",
   "metadata": {},
   "source": [
    "**Note:** The Bokeh plot in the next cell will only be generated after you run the `pw.run()` cell (i.e., the final cell).\n"
   ]
  },
  {
   "cell_type": "code",
   "execution_count": null,
   "id": "564af9ff",
   "metadata": {
    "vscode": {
     "languageId": "plaintext"
    }
   },
   "outputs": [],
   "source": [
    "# Activate the Panel extension to enable interactive visualizations\n",
    "pn.extension()\n",
    "\n",
    "# Define a custom Bokeh plotting function that takes a data source (from Pathway) and returns a figure\n",
    "def price_plotter(source):\n",
    "    # Create a Bokeh figure with datetime x-axis\n",
    "    fig = bokeh.plotting.figure(\n",
    "        height=400,\n",
    "        width=800,\n",
    "        title=\"Pathway: Daily Parking Price\",\n",
    "        x_axis_type=\"datetime\",  # Ensure time-based data is properly formatted on the x-axis\n",
    "    )\n",
    "    # Plot a line graph showing how the price evolves over time\n",
    "    fig.line(\"t\", \"price\", source=source, line_width=2, color=\"navy\")\n",
    "\n",
    "    # Overlay red circles at each data point for better visibility\n",
    "    fig.circle(\"t\", \"price\", source=source, size=6, color=\"red\")\n",
    "\n",
    "    return fig"
   ]
  },
  {
   "cell_type": "markdown",
   "id": "c437732d",
   "metadata": {},
   "source": [
    "#### use delta_window1/2/3 respectively for price model 1/2 or 3. "
   ]
  },
  {
   "cell_type": "code",
   "execution_count": null,
   "id": "ee29a9d3",
   "metadata": {
    "vscode": {
     "languageId": "plaintext"
    }
   },
   "outputs": [],
   "source": [
    "# Use Pathway's built-in .plot() method to bind the data stream (delta_window) to the Bokeh plot\n",
    "# - 'price_plotter' is the rendering function\n",
    "# - 'sorting_col=\"t\"' ensures the data is plotted in time order\n",
    "viz = delta_window1.plot(price_plotter, sorting_col=\"t\")\n",
    "\n",
    "# Create a Panel layout and make it servable as a web app\n",
    "# This line enables the interactive plot to be displayed when the app is served\n",
    "pn.Column(viz).servable()"
   ]
  },
  {
   "cell_type": "code",
   "execution_count": null,
   "id": "dc794347",
   "metadata": {
    "vscode": {
     "languageId": "plaintext"
    }
   },
   "outputs": [],
   "source": [
    "# Start the Pathway pipeline execution in the background\n",
    "# - This triggers the real-time data stream processing defined above\n",
    "# - %%capture --no-display suppresses output in the notebook interface\n",
    "\n",
    "%%capture --no-display\n",
    "pw.run()"
   ]
  },
  {
   "cell_type": "code",
   "execution_count": null,
   "id": "5fe916f6",
   "metadata": {
    "vscode": {
     "languageId": "plaintext"
    }
   },
   "outputs": [],
   "source": []
  }
 ],
 "metadata": {
  "language_info": {
   "name": "python"
  }
 },
 "nbformat": 4,
 "nbformat_minor": 5
}
